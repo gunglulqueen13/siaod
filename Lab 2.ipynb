{
  "cells": [
    {
      "attachments": {},
      "cell_type": "markdown",
      "id": "fifteen-sailing",
      "metadata": {
        "id": "fifteen-sailing"
      },
      "source": [
        "# Лабораторная работа №2\n",
        "## Выполнила студентка группы БФИ2102 Вешкина Полина"
      ]
    },
    {
      "cell_type": "markdown",
      "id": "arctic-stocks",
      "metadata": {
        "id": "arctic-stocks"
      },
      "source": [
        "Реализовать следующие структуры данных:\n",
        "  \n",
        "● <b> Стек (stack): </b>  \n",
        "Операции для стека: \n",
        "<i> инициализация, проверка на пустоту, добавление нового элемента в начало, извлечение элемента из начала;  </i>  \n",
        "  \n",
        "● <b> Дек (двусторонняя очередь, deque):  </b>  \n",
        "Операции для дека: \n",
        "<i> инициализация, проверка на пустоту, добавление нового элемента в начало, добавление нового элемента в конец, извлечение элемента из начала, извлечение элемента из конца. </i>  \n",
        "  \n",
        "<i> Разработать программу обработки данных, содержащихся в заранее подготовленном txt-файле, в соответствии с заданиями, применив указанную в задании структуру данных. Результат работы программы вывести на экран и сохранить в отдельном txt-файле. </i>"
      ]
    },
    {
      "cell_type": "markdown",
      "id": "5d7edb08",
      "metadata": {
        "id": "5d7edb08",
        "scrolled": true
      },
      "source": [
        "### Задание №1\n",
        "Отсортировать строки файла, содержащие названия книг, в алфавитном порядке с использованием двух деков."
      ]
    },
    {
      "cell_type": "code",
      "execution_count": 12,
      "id": "17702ade",
      "metadata": {
        "id": "17702ade"
      },
      "outputs": [
        {
          "name": "stderr",
          "output_type": "stream",
          "text": [
            "<>:14: SyntaxWarning: 'int' object is not callable; perhaps you missed a comma?\n",
            "<>:14: SyntaxWarning: 'int' object is not callable; perhaps you missed a comma?\n",
            "<>:14: SyntaxWarning: 'int' object is not callable; perhaps you missed a comma?\n",
            "<>:14: SyntaxWarning: 'int' object is not callable; perhaps you missed a comma?\n",
            "C:\\Users\\Красотка\\AppData\\Local\\Temp\\ipykernel_3216\\984750272.py:14: SyntaxWarning: 'int' object is not callable; perhaps you missed a comma?\n",
            "  while not int(q1.count())== 0 ():\n",
            "C:\\Users\\Красотка\\AppData\\Local\\Temp\\ipykernel_3216\\984750272.py:14: SyntaxWarning: 'int' object is not callable; perhaps you missed a comma?\n",
            "  while not int(q1.count())== 0 ():\n",
            "C:\\Users\\Красотка\\AppData\\Local\\Temp\\ipykernel_3216\\984750272.py:14: SyntaxWarning: 'int' object is not callable; perhaps you missed a comma?\n",
            "  while not int(q1.count())== 0 ():\n",
            "C:\\Users\\Красотка\\AppData\\Local\\Temp\\ipykernel_3216\\984750272.py:14: SyntaxWarning: 'int' object is not callable; perhaps you missed a comma?\n",
            "  while not int(q1.count())== 0 ():\n",
            "C:\\Users\\Красотка\\AppData\\Local\\Temp\\ipykernel_3216\\984750272.py:14: SyntaxWarning: 'int' object is not callable; perhaps you missed a comma?\n",
            "  while not int(q1.count())== 0 ():\n",
            "C:\\Users\\Красотка\\AppData\\Local\\Temp\\ipykernel_3216\\984750272.py:14: SyntaxWarning: 'int' object is not callable; perhaps you missed a comma?\n",
            "  while not int(q1.count())== 0 ():\n",
            "C:\\Users\\Красотка\\AppData\\Local\\Temp\\ipykernel_3216\\984750272.py:14: SyntaxWarning: 'int' object is not callable; perhaps you missed a comma?\n",
            "  while not int(q1.count())== 0 ():\n",
            "C:\\Users\\Красотка\\AppData\\Local\\Temp\\ipykernel_3216\\984750272.py:14: SyntaxWarning: 'int' object is not callable; perhaps you missed a comma?\n",
            "  while not int(q1.count())== 0 ():\n",
            "C:\\Users\\Красотка\\AppData\\Local\\Temp\\ipykernel_3216\\984750272.py:14: SyntaxWarning: 'int' object is not callable; perhaps you missed a comma?\n",
            "  while not int(q1.count())== 0 ():\n",
            "C:\\Users\\Красотка\\AppData\\Local\\Temp\\ipykernel_3216\\984750272.py:14: SyntaxWarning: 'int' object is not callable; perhaps you missed a comma?\n",
            "  while not int(q1.count())== 0 ():\n"
          ]
        },
        {
          "ename": "TypeError",
          "evalue": "deque.count() takes exactly one argument (0 given)",
          "output_type": "error",
          "traceback": [
            "\u001b[1;31m---------------------------------------------------------------------------\u001b[0m",
            "\u001b[1;31mTypeError\u001b[0m                                 Traceback (most recent call last)",
            "Cell \u001b[1;32mIn[12], line 14\u001b[0m\n\u001b[0;32m     12\u001b[0m \u001b[39mfor\u001b[39;00m book \u001b[39min\u001b[39;00m f:\n\u001b[0;32m     13\u001b[0m     q1\u001b[39m.\u001b[39mappend(book)\n\u001b[1;32m---> 14\u001b[0m \u001b[39mwhile\u001b[39;00m \u001b[39mnot\u001b[39;00m \u001b[39mint\u001b[39m(q1\u001b[39m.\u001b[39;49mcount())\u001b[39m==\u001b[39m \u001b[39m0\u001b[39m ():\n\u001b[0;32m     15\u001b[0m     x \u001b[39m=\u001b[39m q1\u001b[39m.\u001b[39mpop()\n\u001b[0;32m     16\u001b[0m     \u001b[39mwhile\u001b[39;00m \u001b[39mnot\u001b[39;00m \u001b[39mint\u001b[39m(q2\u001b[39m.\u001b[39mcount() \u001b[39m==\u001b[39m \u001b[39m0\u001b[39m) \u001b[39mand\u001b[39;00m q2\u001b[39m.\u001b[39mpeek() \u001b[39m<\u001b[39m x :\n",
            "\u001b[1;31mTypeError\u001b[0m: deque.count() takes exactly one argument (0 given)"
          ]
        }
      ],
      "source": [
        "from collections import deque\n",
        "\n",
        "lines = [\"Собачье Сердце\", \"Мастер и Маргарита\",\n",
        "         \"Над кукушкиным гнездом\", \"А зори здесь тихие\", \"Два капитана\"]\n",
        "f=open(\"text/books.txt\",\"w\",encoding=\"utf-8\")\n",
        "for line in lines:\n",
        "    f.write(line + '\\n')\n",
        "f.close()\n",
        "f = open(\"text/books.txt\", \"r\", encoding=\"utf-8\")\n",
        "q1 = deque()\n",
        "q2 = deque()\n",
        "for book in f:\n",
        "    q1.append(book)\n",
        "while not int(q1.count()) == 0 ():\n",
        "    x = q1.pop()\n",
        "    while not int(q2.count() == 0) and q2.peek() < x :\n",
        "        q1.appendleft(q2.pop())\n",
        "    q2.append(x)\n",
        "while not int(q2.count() == 0) ():\n",
        "    print(q2.pop)\n"
      ]
    },
    {
      "cell_type": "markdown",
      "id": "49fbd2a0",
      "metadata": {
        "id": "49fbd2a0"
      },
      "source": [
        "### Задание №2\n",
        "Дек содержит последовательность символов для шифровки сообщений. Дан текстовый файл, содержащий зашифрованное сообщение. Пользуясь деком, расшифровать текст. \n",
        "Известно, что при шифровке каждый символ сообщения заменялся следующим за ним в деке по часовой стрелке через один."
      ]
    },
    {
      "cell_type": "code",
      "execution_count": null,
      "id": "81cab7a8",
      "metadata": {
        "id": "81cab7a8"
      },
      "outputs": [],
      "source": []
    },
    {
      "cell_type": "markdown",
      "id": "c0894f47",
      "metadata": {
        "id": "c0894f47"
      },
      "source": [
        "### Задание №3\n",
        "Даны три стержня и n дисков различного размера. Диски можно надевать на стержни, образуя из них башни. Перенести n дисков со стержня А на стержень С, сохранив их первоначальный порядок. При переносе дисков необходимо соблюдать следующие правила:\n",
        "- на каждом шаге со стержня на стержень переносить только один диск;\n",
        "- диск нельзя помещать на диск меньшего размера;\n",
        "- для промежуточного хранения можно использовать стержень В.\n",
        "Реализовать алгоритм, используя три стека вместо стержней А, В, С. Информация о дисках хранится в исходном файле."
      ]
    },
    {
      "cell_type": "code",
      "execution_count": null,
      "id": "9e91a9d4",
      "metadata": {
        "id": "9e91a9d4"
      },
      "outputs": [],
      "source": []
    },
    {
      "cell_type": "markdown",
      "id": "e5b0be17",
      "metadata": {
        "id": "e5b0be17"
      },
      "source": [
        "### Задание №4\n",
        "Дан текстовый файл с программой на алгоритмическом языке. За один просмотр файла проверить баланс круглых скобок в тексте, используя стек."
      ]
    },
    {
      "cell_type": "code",
      "execution_count": null,
      "id": "5b1df60a",
      "metadata": {
        "id": "5b1df60a"
      },
      "outputs": [],
      "source": []
    },
    {
      "cell_type": "markdown",
      "id": "c44cdd6b",
      "metadata": {
        "id": "c44cdd6b"
      },
      "source": [
        "### Задание №5\n",
        "Дан текстовый файл с программой на алгоритмическом языке. За один просмотр файла проверить баланс квадратных скобок в тексте, используя дек."
      ]
    },
    {
      "cell_type": "code",
      "execution_count": null,
      "id": "36b8f400",
      "metadata": {
        "id": "36b8f400"
      },
      "outputs": [],
      "source": []
    },
    {
      "cell_type": "markdown",
      "id": "59d13dc7",
      "metadata": {
        "id": "59d13dc7"
      },
      "source": [
        "### Задание №6\n",
        "Дан файл из символов. Используя стек, за один просмотр файла напечатать сначала все цифры, затем все буквы, и, наконец, все остальные символы, сохраняя исходный порядок в каждой группе символов."
      ]
    },
    {
      "cell_type": "code",
      "execution_count": null,
      "id": "297e36c2",
      "metadata": {
        "id": "297e36c2"
      },
      "outputs": [],
      "source": []
    },
    {
      "cell_type": "markdown",
      "id": "973f68bd",
      "metadata": {
        "id": "973f68bd"
      },
      "source": [
        "### Задание №7\n",
        "Дан файл из целых чисел. Используя дек, за один просмотр файла напечатать сначала все отрицательные числа, затем все положительные числа, сохраняя исходный порядок в каждой группе."
      ]
    },
    {
      "cell_type": "code",
      "execution_count": null,
      "id": "c56fad66",
      "metadata": {
        "id": "c56fad66"
      },
      "outputs": [],
      "source": []
    },
    {
      "cell_type": "markdown",
      "id": "b9228191",
      "metadata": {
        "id": "b9228191"
      },
      "source": [
        "### Задание №8\n",
        "Дан текстовый файл. Используя стек, сформировать новый текстовый файл, содержащий строки исходного файла, записанные в обратном порядке: первая строка становится последней, вторая – предпоследней и т.д."
      ]
    },
    {
      "cell_type": "code",
      "execution_count": null,
      "id": "981fbdfe",
      "metadata": {
        "id": "981fbdfe"
      },
      "outputs": [],
      "source": []
    },
    {
      "cell_type": "markdown",
      "id": "rental-jerusalem",
      "metadata": {
        "id": "rental-jerusalem"
      },
      "source": [
        "### Вывод\n"
      ]
    },
    {
      "cell_type": "markdown",
      "id": "0c2b8899",
      "metadata": {
        "id": "0c2b8899"
      },
      "source": []
    }
  ],
  "metadata": {
    "colab": {
      "provenance": []
    },
    "kernelspec": {
      "display_name": "Python 3",
      "language": "python",
      "name": "python3"
    },
    "language_info": {
      "codemirror_mode": {
        "name": "ipython",
        "version": 3
      },
      "file_extension": ".py",
      "mimetype": "text/x-python",
      "name": "python",
      "nbconvert_exporter": "python",
      "pygments_lexer": "ipython3",
      "version": "3.10.9"
    },
    "vscode": {
      "interpreter": {
        "hash": "08cdd3ff839a0a7f1435bf4f8c8d0ccc9c4dc55c83ffce3fa315241ca0581dac"
      }
    }
  },
  "nbformat": 4,
  "nbformat_minor": 5
}
